{
 "cells": [
  {
   "cell_type": "markdown",
   "metadata": {},
   "source": [
    "## Priprava podatkov"
   ]
  },
  {
   "cell_type": "code",
   "execution_count": 1,
   "metadata": {},
   "outputs": [],
   "source": [
    "import numpy as np\n",
    "import csv\n",
    "\n",
    "np.set_printoptions(suppress=True)\n",
    "#data2012 = np.loadtxt('data/data2012.csv', dtype=str, delimiter=\";\", skiprows=1, encoding=\"UTF-8\")\n",
    "#data2013 = np.loadtxt('data/data2013.csv', dtype=str, delimiter=\";\", skiprows=1, encoding=\"UTF-8\")\n",
    "# Pri branju podatkov iz data2013.csv dobim ta error:\n",
    "# ValueError: Wrong number of columns at line 29408\n",
    "#data2014 = np.loadtxt('data/data2014.csv', dtype=str, delimiter=\";\", skiprows=1, encoding=\"UTF-8\")\n",
    "#data2015 = np.loadtxt('data/data2015.csv', dtype=str, delimiter=\";\", skiprows=1, encoding=\"UTF-8\")\n",
    "#data2016 = np.loadtxt('data/data2016.csv', dtype=str, delimiter=\";\", skiprows=1, encoding=\"UTF-8\")\n",
    "#data2017 = np.loadtxt('data/data2017.csv', dtype=str, delimiter=\";\", skiprows=1, encoding=\"UTF-8\")\n",
    "#data2018 = np.loadtxt('data/data2018.csv', dtype=str, delimiter=\";\", skiprows=1, encoding=\"UTF-8\")\n",
    "#data2019 = np.loadtxt('data/data2019.csv', dtype=str, delimiter=\";\", skiprows=1, encoding=\"UTF-8\")\n",
    "#data2020 = np.loadtxt('data/data2020.csv', dtype=str, delimiter=\";\", skiprows=1, encoding=\"UTF-8\")\n",
    "data2021 = np.loadtxt('data/data2021.csv', dtype=str, delimiter=\";\", skiprows=1, encoding=\"UTF-8\")"
   ]
  },
  {
   "cell_type": "markdown",
   "metadata": {},
   "source": [
    "### Data Preprocessing"
   ]
  },
  {
   "cell_type": "code",
   "execution_count": 2,
   "metadata": {},
   "outputs": [],
   "source": [
    "def dataPreprocessing(dataset):\n",
    "    # MesecStoritve\n",
    "    for i, zapis in enumerate(dataset[:,1]):\n",
    "        dataset[i,1] = dataset[i,1][:-5]\n",
    "    \n",
    "    # OpisKD\n",
    "    for i,zapis in enumerate(dataset[:,6]):\n",
    "        dataset[i,6] = zapis.split(\" - \")[1]\n",
    "    \n",
    "    # Povratnik\n",
    "    for i,zapis in enumerate(dataset[:,5]):\n",
    "        dataset[i,5] = 0 if zapis == \"NE\" else 1\n",
    "\n",
    "    # OrganiziranKriminal\n",
    "    for i,zapis in enumerate(dataset[:,9]):\n",
    "        dataset[i,9] = 0 if zapis == \" \" else 1\n",
    "\n",
    "    # MladoletniskaKriminaliteta\n",
    "    for i,zapis in enumerate(dataset[:,10]):\n",
    "        dataset[i,10] = 0 if zapis == \" \" else 1\n",
    "\n",
    "    # Poskus\n",
    "    for i,zapis in enumerate(dataset[:,11]):\n",
    "        dataset[i,11] = 0 if zapis == \"NE\" else 1\n",
    "\n",
    "    # Vpliv alkohola\n",
    "    for i,zapis in enumerate(dataset[:,29]):\n",
    "        if zapis == \"NE\":\n",
    "            dataset[i,29] = 0 \n",
    "        elif zapis == \"DA\":\n",
    "            dataset[i,29] = 1\n",
    "        else:\n",
    "            dataset[i,29] = -1\n",
    "\n",
    "    # Vpliv mamil\n",
    "    for i,zapis in enumerate(dataset[:,30]):\n",
    "        if zapis == \"NE\":\n",
    "            dataset[i,30] = 0 \n",
    "        elif zapis == \"DA\":\n",
    "            dataset[i,30] = 1\n",
    "        else:\n",
    "            dataset[i,30] = -1\n",
    "\n",
    "    # Organizirana druzba\n",
    "    for i,zapis in enumerate(dataset[:,31]):\n",
    "        if zapis == \"NE\":\n",
    "            dataset[i,31] = 0 \n",
    "        elif zapis == \"DA\":\n",
    "            dataset[i,31] = 1\n",
    "        else:\n",
    "            dataset[i,31] = -1\n",
    "    \n",
    "    # Starost\n",
    "    for i,zapis in enumerate(dataset[:,25]):\n",
    "        if zapis == \"00-07\":\n",
    "            dataset[i,25] = 1\n",
    "        elif zapis == \"14-16\":\n",
    "            dataset[i,25] = 2\n",
    "        elif zapis == \"16-18\":\n",
    "            dataset[i,25] = 3\n",
    "        elif zapis == \"18-24\":\n",
    "            dataset[i,25] = 4\n",
    "        elif zapis == \"24-34\":\n",
    "            dataset[i,25] = 5\n",
    "        elif zapis == \"34-44\":\n",
    "            dataset[i,25] = 6\n",
    "        elif zapis == \"44-54\":\n",
    "            dataset[i,25] = 7\n",
    "        elif zapis == \"54-64\":\n",
    "            dataset[i,25] = 8\n",
    "        elif zapis == \"NAD 64\":\n",
    "            dataset[i,25] = 9\n",
    "        elif zapis == \"PRAVNA OSEBA\":\n",
    "            dataset[i,25] = -2\n",
    "        else:\n",
    "            dataset[i,25] = -1"
   ]
  },
  {
   "cell_type": "code",
   "execution_count": 3,
   "metadata": {},
   "outputs": [],
   "source": [
    "#dataPreprocessing(data2012)\n",
    "#dataPreprocessing(data2013)\n",
    "#dataPreprocessing(data2014)\n",
    "#dataPreprocessing(data2015)\n",
    "#dataPreprocessing(data2016)\n",
    "#dataPreprocessing(data2017)\n",
    "#dataPreprocessing(data2018)\n",
    "#dataPreprocessing(data2019)\n",
    "#dataPreprocessing(data2020)\n",
    "dataPreprocessing(data2021)"
   ]
  }
 ],
 "metadata": {
  "kernelspec": {
   "display_name": "Python 3",
   "language": "python",
   "name": "python3"
  },
  "language_info": {
   "codemirror_mode": {
    "name": "ipython",
    "version": 3
   },
   "file_extension": ".py",
   "mimetype": "text/x-python",
   "name": "python",
   "nbconvert_exporter": "python",
   "pygments_lexer": "ipython3",
   "version": "3.8.3"
  }
 },
 "nbformat": 4,
 "nbformat_minor": 4
}
