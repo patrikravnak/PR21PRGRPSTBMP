{
 "cells": [
  {
   "cell_type": "markdown",
   "metadata": {},
   "source": [
    "## Priprava podatkov"
   ]
  },
  {
   "cell_type": "code",
   "execution_count": 1,
   "metadata": {},
   "outputs": [],
   "source": [
    "import numpy as np\n",
    "import csv\n",
    "\n",
    "np.set_printoptions(suppress=True)\n",
    "data2019 = np.loadtxt('data2019.csv', dtype=str, delimiter=\";\", skiprows=1)\n",
    "data2020 = np.loadtxt('data2020.csv', dtype=str, delimiter=\";\", skiprows=1)"
   ]
  },
  {
   "cell_type": "code",
   "execution_count": 2,
   "metadata": {},
   "outputs": [
    {
     "data": {
      "text/plain": [
       "array([['1', '61.945', '23:00-23:59', ..., '', '', ''],\n",
       "       ['2', '112.010', '00:00-00:59', ..., '', '', ''],\n",
       "       ['3', '42.009', '23:00-23:59', ..., 'NN', 'NE',\n",
       "        '10.000 - 100.000 EUR'],\n",
       "       ...,\n",
       "       ['61193', '112.019', '23:00-23:59', ..., 'NN', 'NE', 'DO 100 EUR'],\n",
       "       ['61194', '92.016', '00:00-00:59', ..., 'NN', 'NE', 'BREZ'],\n",
       "       ['61194', '92.016', '00:00-00:59', ..., 'NN', 'NE', 'BREZ']],\n",
       "      dtype='<U118')"
      ]
     },
     "execution_count": 2,
     "metadata": {},
     "output_type": "execute_result"
    }
   ],
   "source": [
    "data2019"
   ]
  },
  {
   "cell_type": "code",
   "execution_count": 3,
   "metadata": {},
   "outputs": [
    {
     "data": {
      "text/plain": [
       "array([['1', '42.007', '16:00-16:59', ..., 'NN', 'NE', '100 - 1.000 EUR'],\n",
       "       ['2', '112.009', '14:00-14:59', ..., 'NN', 'NE', 'DO 100 EUR'],\n",
       "       ['3', '122.008', '23:00-23:59', ..., 'NE', 'NE', 'BREZ'],\n",
       "       ...,\n",
       "       ['59615', '12.020', '12:00-12:59', ..., 'NN', 'NE', 'BREZ'],\n",
       "       ['59616', '12.020', '12:00-12:59', ..., 'NN', 'NE',\n",
       "        '100 - 1.000 EUR'],\n",
       "       ['59616', '12.020', '12:00-12:59', ..., 'NN', 'NE', 'BREZ']],\n",
       "      dtype='<U118')"
      ]
     },
     "execution_count": 3,
     "metadata": {},
     "output_type": "execute_result"
    }
   ],
   "source": [
    "data2020"
   ]
  },
  {
   "cell_type": "code",
   "execution_count": null,
   "metadata": {},
   "outputs": [],
   "source": []
  }
 ],
 "metadata": {
  "kernelspec": {
   "display_name": "Python 3",
   "language": "python",
   "name": "python3"
  },
  "language_info": {
   "codemirror_mode": {
    "name": "ipython",
    "version": 3
   },
   "file_extension": ".py",
   "mimetype": "text/x-python",
   "name": "python",
   "nbconvert_exporter": "python",
   "pygments_lexer": "ipython3",
   "version": "3.8.3"
  }
 },
 "nbformat": 4,
 "nbformat_minor": 4
}
