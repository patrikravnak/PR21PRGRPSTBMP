{
 "cells": [
  {
   "cell_type": "markdown",
   "metadata": {},
   "source": [
    "### Priprava podatkov"
   ]
  },
  {
   "cell_type": "code",
   "execution_count": null,
   "metadata": {},
   "outputs": [],
   "source": [
    "import pandas as pd\n",
    "\n",
    "def to_ura(series):\n",
    "    ure = []\n",
    "    for i, val in series.items():\n",
    "        ure.append(int(val.split(\":\")[0]))\n",
    "    return pd.Series(ure, dtype=\"int\")\n",
    "\n",
    "def to_mesec(series):\n",
    "    mesec = []\n",
    "    for i, val in series.items():   \n",
    "        mesec.append(int(str(\"{:.3f}\".format(val))[:-5])) \n",
    "    return pd.Series(mesec, dtype=\"int\")\n",
    "\n",
    "df = None\n",
    "for year in range(2012, 2022):\n",
    "    df_temp = pd.read_csv(\"data/data\" + str(year) + \".csv\", delimiter=\";\", encoding=\"utf8\", low_memory=False)\n",
    "    df_temp.iloc[:, 0] = df_temp.iloc[:, 0] + year * 1000_000\n",
    "    df_temp.iloc[:, 1] = to_mesec(df_temp.iloc[:, 1])\n",
    "    df_temp.iloc[:, 2] = to_ura(df_temp.iloc[:, 2])\n",
    "    df_temp.iloc[:, 3] = df_temp.iloc[:, 3].replace([\"PONEDELJEK\", \"TOREK\", \"SREDA\", \"ČETRTEK\", \"PETEK\", \"SOBOTA\", \"NEDELJA\"], [1, 2, 3, 4, 5, 6, 7]).astype(int)\n",
    "    df_temp.iloc[:, 5] = df_temp.iloc[:, 5].replace([\"DA\", \"NE\"], [1, 0]).astype(\"bool\")\n",
    "    df_temp.iloc[:, 8] = df_temp.iloc[:, 8].replace([\"GOSPODARSKA\", \"SPLOŠNA\"], [1, 0]).astype(\"bool\")\n",
    "    df_temp.iloc[:, 9] = df_temp.iloc[:, 9].replace([\"ORGANIZIRANA\", \" \"], [1, 0]).astype(\"bool\")\n",
    "    df_temp.iloc[:, 10] = df_temp.iloc[:, 10].replace([\"MLADOLETNIŠKA\", \" \"], [1, 0]).astype(\"bool\")\n",
    "    df_temp.iloc[:, 11] = df_temp.iloc[:, 11].replace([\"DA\", \"NE\"], [1, 0]).astype(\"bool\")\n",
    "    df_temp.iloc[:, 31] = df_temp.iloc[:, 31].replace([\"DA\", \"NE\"], [1, 0]).astype(\"bool\")\n",
    "    df_temp.iloc[:, 31] = df_temp.iloc[:, 31].replace([\"BREZ\"], [0]).astype(\"bool\")\n",
    "\n",
    "    df = pd.concat([df, df_temp], ignore_index = True)"
   ]
  },
  {
   "cell_type": "markdown",
   "metadata": {},
   "source": [
    "### 1. Ali sej je karantena spremenila pogostost družinskega nasilja?"
   ]
  },
  {
   "cell_type": "code",
   "execution_count": null,
   "metadata": {},
   "outputs": [],
   "source": []
  },
  {
   "cell_type": "markdown",
   "metadata": {},
   "source": [
    "### 2. Ali se je med karanteno spremenila pogostost drugih kaznivih dejanj?"
   ]
  },
  {
   "cell_type": "code",
   "execution_count": null,
   "metadata": {},
   "outputs": [],
   "source": []
  },
  {
   "cell_type": "markdown",
   "metadata": {},
   "source": [
    "### 3. Kako je uvedba policijske ure vplivala na kriminal v nočnem času?"
   ]
  },
  {
   "cell_type": "code",
   "execution_count": null,
   "metadata": {},
   "outputs": [],
   "source": []
  }
 ],
 "metadata": {
  "interpreter": {
   "hash": "296aa7cfa7482e5f6aad7e2805f8e0ffc5d566567ecda4b4da3f6c963a99a665"
  },
  "kernelspec": {
   "display_name": "Python 3.10.2 64-bit",
   "language": "python",
   "name": "python3"
  },
  "language_info": {
   "codemirror_mode": {
    "name": "ipython",
    "version": 3
   },
   "file_extension": ".py",
   "mimetype": "text/x-python",
   "name": "python",
   "nbconvert_exporter": "python",
   "pygments_lexer": "ipython3",
   "version": "3.10.2"
  }
 },
 "nbformat": 4,
 "nbformat_minor": 4
}
