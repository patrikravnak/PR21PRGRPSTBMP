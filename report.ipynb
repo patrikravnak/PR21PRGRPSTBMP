{
 "cells": [
  {
   "cell_type": "markdown",
   "metadata": {},
   "source": [
    "## Poročilo pri predmetu Podatkovno rudarjenje - Vpliv karantene na pogostost nasilja v družini"
   ]
  },
  {
   "cell_type": "markdown",
   "metadata": {},
   "source": [
    "### 1. Uvod"
   ]
  },
  {
   "cell_type": "markdown",
   "metadata": {},
   "source": [
    "Leto 2020 je zaznamovala epidemija covid-19 virusa, posledica katere je bila dolgotrajno obdobje karantena za državljane republike Slovenija. To je pomenilo, da so družinski člani preživljali več časa skupaj kot poprej. Z seminarsko naogo želimo ugotoviti, kako je to vplivalo na številov primerov kaznivih dejanj nasilja v družini ter njihovo intenziteto. Menimo da so faktorji, kot je uvedba splošne karantene ter omejitev gibanja, vplivali na število primer obravnav družinskega nasilja. Zanimalo nas je tudi, ali je med obdobjem policijske ure delež kriminala upadel.\n",
    "\n",
    "Tako smo si zastavili naslednje 3 uprašanja:\n",
    "- Ali sej je karanteno spremenila pogostost družinskega nasilja?\n",
    "- Ali se je med karanteno spremenila pogostost drugih kaznivih dejanj?\n",
    "- Kako je uvedba policijske ure vplivala na kriminal v nočnem času?"
   ]
  },
  {
   "cell_type": "markdown",
   "metadata": {},
   "source": [
    "### 2. Opis podatkov"
   ]
  },
  {
   "cell_type": "markdown",
   "metadata": {},
   "source": [
    "Vse potrebne podatke smo dobili na spletni strani Slovenske policije ( https://www.policija.si/o-slovenski-policiji/statistika/kriminaliteta ), kjer so podatki podani v .csv datoteki po letih. Odločili smo se da bomo uporabili podatke za zadnjih 10 let ( 2012 do 2021 ). Vsaka datoteka vsebuje 33 atributov in med 100.000 in 170.000 vrstic. \n",
    "\n",
    "V datoteki so bili naslednji atributi:\n",
    "\n",
    "\n",
    "- **ZaporednaStevilkaKD** - ID kaznivega dejanja\n",
    "- **MesecStoritve** - datum v formatu MM.LLLL\n",
    "- **UraStoritve** - Zaokrožena na polno uro, podano v formatu HH:MM -HH:MM\n",
    "- **DanVTednu**\n",
    "- **PUStoritveKD** - Policijska uprava, ki je obravnavala kaznivo dejanje\n",
    "- **Povratnik** - Ali ima storilec že predhodna kazniva dejanja\n",
    "- **OpisKD** - Člen in naziv kaznivega dejanja v kazenskem zakoniku\n",
    "- **PoglavjeKD** - Zoper katerega področja je bilo kaznivo dejanje storjeno\n",
    "- **GospodarskiKriminal** - Ali je bilo kaznivo dejanje gospodarkse ali splošne narave\n",
    "- **OrganiziraniKriminal** - Ali je bilo kaznivo dejanje del organiziranega kriminala\n",
    "    *Oznaka \"ORGANIZIRANA\", če je bil organiziran kriminal, v nasprotnem primeru ni zapisa\n",
    "- **MladoletnikaKriminaliteta** - Ali je bil storilec mladoleten\n",
    "    *Oznaka \"MLADOLETNIŠKA\", če je bil storilec mladoleten, v nasprotnem primeru ni zapisa\n",
    "- **Poskus** - Ali je bilo kaznivo dejanje izvedeno, ali pa je bil samo poskus\n",
    "- **KriminalistinaOznacba1** - oznaka kaznivega dejanja\n",
    "- **KriminalisticnaOznacba2**\n",
    "- **KriminalisticnaOznacba3**\n",
    "    *KO2 in KO3 sta neobvezna atributa, katera lahko vsebujeta dodatne informacije.\n",
    "- **UporabljenoSredstvo1** - Če in katero sredstvo je bilo uporabljeno pri storitvi kaznivega   dejanja.\n",
    "- **UporabljenoSredstvo2**\n",
    "- **UporabljenoSredstvo3**\n",
    "- **UporabljenoSredstvo4**\n",
    "    *US2, US3 in US4 so neobvezni atributi, ki imajo vrednost v primeru, da je bilo uporabljenih več sredstev ali pa za dodaten opis sredstva\n",
    "- **UpravnaEnotaStoritve** - Upravna enota, ki je obravnavala kaznivo dejanje\n",
    "- **OpisKraja** - Oznaka kraja, kjer je bilo storjeno kaznivo dejanje\n",
    "- **LetoZakljucnegaDokumenta** - Leto ko je bil primer zaključen\n",
    "- **VrstaZakljucnegaDokumenta** - Ali je bila zoper dejanja podana kazenska ovadba, ali samo napisano poročilo\n",
    "- **ZaporednaStevilkaOsebeVKD** - ZaporednaStevilkaKD dodana z oznako osebe\n",
    "- **VrstaOsebe** - Vloga osebe v kazniven dejanju\n",
    "- **StarostniRazred** - Starostni razred osebe\n",
    "    *Razpon med 18-24, nato pa na vsake 10 let\n",
    "- **Spol**\n",
    "- **Drzavljanstvo**\n",
    "- **Poskodba**\n",
    "    *Pri \"Poškodba\" je veliko praznih vnosov, kljub temu da lahko ima vrednost \"BREZ POŠKODBE\" -> Po pregledu bomo obravnavali prazne vnose kot \"BREZ POŠKODBE\"\n",
    "- **VplivAlkohola** - Ali je bila oseba pod vplivom alkohola\n",
    "- **VplivMamil** - Ali je bila oseba pod vplivom mamil\n",
    "    DA ali NE, NN pomeni da ni bil opravljen test\n",
    "- **OrganiziranaZdruzba** - Ali je bila oseba del kriminalne združbe\n",
    "- **Skoda** - Povzročena škoda v € oz. oznaka \"BREZ\"\n",
    "\n",
    "\n",
    "Podatke, ker sta bili le 2 mogoči vrednosti, smo pretvorili smo pretvorili v binarne podatke 0/1. Dneve v tednu smo zapisali kot številsko vrednost. Prav tako smo ločili atribute leto, mesec in uro za kaznjivo dejanje.\n",
    "\n",
    "Napačnih podatkov je bilo zelo malo, zato smo pomankjljive vrstice, kjer manjkajoča vrednost ni bila očitna, izpustili. Tiste vrednosti, ki pa so bile očitne smo pa dopolnili. Primer, pri atributu \"MladoletnikaKriminaliteta\" je bila oznaka \"MLADOLETNIŠKA\" samo če je bil storilec mladoleten, v nasprotnem primeru pa je bil zapis prazen. V našem primeru smo dopolnili zapis z \"ne mladoleten\" in pretvorili v binaren zapis."
   ]
  },
  {
   "cell_type": "markdown",
   "metadata": {},
   "source": [
    "### 3. Izvedene alanlize"
   ]
  },
  {
   "cell_type": "markdown",
   "metadata": {},
   "source": [
    "Ko smo uredili podatke, smo jih razdelili, najprej na podatke za časovno obdobje prve, druge karantene in ostale podatke. Znotraj teh razdelitev smo prešteli vsa kriminalna dejanja glede na vrsto kriminala. Te podatke smo izpisali in jih primerjali med seboj. Iz teh podatkov pa smo kasneje naredili tudi nekaj grafov.\n",
    "\n",
    "Kasneje pa smo te podatke podrobneje razdelili še na leta in ponovno prešteli vsa kriminalna dejanja glede na vrsto kriminala."
   ]
  },
  {
   "cell_type": "markdown",
   "metadata": {},
   "source": [
    "### 4. Rezultati"
   ]
  },
  {
   "cell_type": "markdown",
   "metadata": {},
   "source": [
    "### I. Ali sej je karanteno spremenila pogostost družinskega nasilja?"
   ]
  },
  {
   "cell_type": "markdown",
   "metadata": {},
   "source": [
    "Prvo smo preverili, če je naša domneva da je bilo med karanteno in uvedbo omejitve gibanja porast kaznivih dejanj zoper zakonske zveze, družine ter otrok. Obdobje karantene smo morali zaradi tipa podatkov zaokrožiti na mesec natančno. Za obdobje karantene smo torej uzei april, november in december 2020. V danem obdobju je bilo v povprečju na mesec zabeleženih 785 kaznivih dejanj, v preostalem letu pa 710,67 primerov. To predstavlja 10,46% rast.\n",
    "\n",
    "Seveda pa smo morali pogledati ali je ta rast edinstvena, ali pa se pojavlja tudi v prejšnjih letih. Izračunali smo tako povprečje v obdobju od 2012 do 2019, ki je predstavljalo 7800 primerov med \"karantenskimi\" meseci, ter 7891.78 v ostalih. Razlika je bila -1.16 %.\n",
    "\n",
    "Za zadnje preverjanje pa smo izračunali delež rasti/padca še za vsako leto posebej, kar lahko vidite na spodnjem grafu."
   ]
  },
  {
   "cell_type": "code",
   "execution_count": 1,
   "metadata": {},
   "outputs": [
    {
     "data": {
      "image/png": "[encoded data removed]",
      "text/plain": [
       "<IPython.core.display.Image object>"
      ]
     },
     "execution_count": 1,
     "metadata": {},
     "output_type": "execute_result"
    }
   ],
   "source": [
    "from IPython.display import Image\n",
    "Image(filename='graphs/delez_spremembe_v_mesecih.png')"
   ]
  },
  {
   "cell_type": "markdown",
   "metadata": {},
   "source": [
    "#### Ali se je med karanteno spremenila pogostost drugih kaznivih dejanj?\n",
    "text"
   ]
  },
  {
   "cell_type": "markdown",
   "metadata": {},
   "source": [
    "#### Kako je uvedba policijske ure vplivala na kriminal v nočnem času?\n",
    "text\n"
   ]
  }
 ],
 "metadata": {
  "interpreter": {
   "hash": "296aa7cfa7482e5f6aad7e2805f8e0ffc5d566567ecda4b4da3f6c963a99a665"
  },
  "kernelspec": {
   "display_name": "Python 3 (ipykernel)",
   "language": "python",
   "name": "python3"
  },
  "language_info": {
   "codemirror_mode": {
    "name": "ipython",
    "version": 3
   },
   "file_extension": ".py",
   "mimetype": "text/x-python",
   "name": "python",
   "nbconvert_exporter": "python",
   "pygments_lexer": "ipython3",
   "version": "3.10.2"
  },
  "latex_envs": {
   "LaTeX_envs_menu_present": true,
   "autoclose": false,
   "autocomplete": true,
   "bibliofile": "biblio.bib",
   "cite_by": "apalike",
   "current_citInitial": 1,
   "eqLabelWithNumbers": true,
   "eqNumInitial": 1,
   "hotkeys": {
    "equation": "Ctrl-E",
    "itemize": "Ctrl-I"
   },
   "labels_anchors": false,
   "latex_user_defs": false,
   "report_style_numbering": false,
   "user_envs_cfg": false
  },
  "nbTranslate": {
   "displayLangs": [
    "*"
   ],
   "hotkey": "alt-t",
   "langInMainMenu": true,
   "sourceLang": "en",
   "targetLang": "fr",
   "useGoogleTranslate": true
  }
 },
 "nbformat": 4,
 "nbformat_minor": 4
}
